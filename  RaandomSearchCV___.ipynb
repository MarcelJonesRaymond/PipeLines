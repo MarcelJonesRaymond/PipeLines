{
 "cells": [
  {
   "cell_type": "code",
   "execution_count": 21,
   "id": "1b5d0a6c",
   "metadata": {},
   "outputs": [],
   "source": [
    "import numpy as np\n",
    "import pandas as pd\n",
    "import matplotlib.pyplot as plt\n",
    "import seaborn as sns\n",
    "from sklearn.preprocessing import StandardScaler\n",
    "from sklearn.model_selection import train_test_split,GridSearchCV,RandomizedSearchCV,cross_val_score\n",
    "from sklearn.ensemble import RandomForestClassifier\n",
    "from sklearn.datasets import load_digits\n",
    "from sklearn import metrics\n",
    "from sklearn.pipeline import make_pipeline"
   ]
  },
  {
   "cell_type": "code",
   "execution_count": 6,
   "id": "5e7813b4",
   "metadata": {},
   "outputs": [],
   "source": [
    "digits=load_digits()"
   ]
  },
  {
   "cell_type": "code",
   "execution_count": 8,
   "id": "e127ab6e",
   "metadata": {},
   "outputs": [],
   "source": [
    "x,y=digits.data,digits.target"
   ]
  },
  {
   "cell_type": "code",
   "execution_count": 10,
   "id": "b34d2ae7",
   "metadata": {},
   "outputs": [],
   "source": [
    "X_train,x_test,Y_train,y_test=train_test_split(x,y,test_size=0.3,random_state=1)"
   ]
  },
  {
   "cell_type": "code",
   "execution_count": 11,
   "id": "e9dba0d5",
   "metadata": {},
   "outputs": [],
   "source": [
    "rf=RandomForestClassifier(n_estimators=100)\n",
    "rf.fit(X_train,Y_train)\n",
    "yhat=rf.predict(x_test)"
   ]
  },
  {
   "cell_type": "code",
   "execution_count": 13,
   "id": "84796875",
   "metadata": {},
   "outputs": [
    {
     "name": "stdout",
     "output_type": "stream",
     "text": [
      "[[57  0  0  0  2  0  0  0  0  0]\n",
      " [ 0 48  0  0  0  1  0  0  0  0]\n",
      " [ 0  0 49  0  0  0  0  0  0  0]\n",
      " [ 0  0  0 60  0  1  0  1  2  0]\n",
      " [ 0  0  0  0 61  0  0  0  0  0]\n",
      " [ 0  0  0  0  0 46  0  0  0  1]\n",
      " [ 0  1  0  0  0  0 50  0  0  0]\n",
      " [ 0  0  0  0  0  0  0 56  0  1]\n",
      " [ 0  0  0  0  0  1  0  0 44  1]\n",
      " [ 0  0  0  0  0  2  0  0  0 55]]\n"
     ]
    }
   ],
   "source": [
    "print(metrics.confusion_matrix(y_test,yhat))"
   ]
  },
  {
   "cell_type": "code",
   "execution_count": 14,
   "id": "5e0cabfd",
   "metadata": {},
   "outputs": [
    {
     "name": "stdout",
     "output_type": "stream",
     "text": [
      "              precision    recall  f1-score   support\n",
      "\n",
      "           0       1.00      0.97      0.98        59\n",
      "           1       0.98      0.98      0.98        49\n",
      "           2       1.00      1.00      1.00        49\n",
      "           3       1.00      0.94      0.97        64\n",
      "           4       0.97      1.00      0.98        61\n",
      "           5       0.90      0.98      0.94        47\n",
      "           6       1.00      0.98      0.99        51\n",
      "           7       0.98      0.98      0.98        57\n",
      "           8       0.96      0.96      0.96        46\n",
      "           9       0.95      0.96      0.96        57\n",
      "\n",
      "    accuracy                           0.97       540\n",
      "   macro avg       0.97      0.97      0.97       540\n",
      "weighted avg       0.98      0.97      0.97       540\n",
      "\n"
     ]
    }
   ],
   "source": [
    "print(metrics.classification_report(y_test,yhat))"
   ]
  },
  {
   "cell_type": "code",
   "execution_count": 16,
   "id": "8f8d26b7",
   "metadata": {},
   "outputs": [],
   "source": [
    "result=cross_val_score(rf,X_train,Y_train,cv=10)"
   ]
  },
  {
   "cell_type": "code",
   "execution_count": 17,
   "id": "ed5e1023",
   "metadata": {},
   "outputs": [
    {
     "data": {
      "text/plain": [
       "(0.9745333333333333, 0.013223019088394426)"
      ]
     },
     "execution_count": 17,
     "metadata": {},
     "output_type": "execute_result"
    }
   ],
   "source": [
    "result.mean(),result.std()"
   ]
  },
  {
   "cell_type": "code",
   "execution_count": 22,
   "id": "df699069",
   "metadata": {},
   "outputs": [
    {
     "name": "stdout",
     "output_type": "stream",
     "text": [
      "              precision    recall  f1-score   support\n",
      "\n",
      "           0       1.00      0.97      0.98        59\n",
      "           1       1.00      0.98      0.99        49\n",
      "           2       1.00      1.00      1.00        49\n",
      "           3       1.00      1.00      1.00        64\n",
      "           4       0.97      1.00      0.98        61\n",
      "           5       0.94      0.96      0.95        47\n",
      "           6       1.00      1.00      1.00        51\n",
      "           7       1.00      0.98      0.99        57\n",
      "           8       1.00      0.98      0.99        46\n",
      "           9       0.93      0.96      0.95        57\n",
      "\n",
      "    accuracy                           0.98       540\n",
      "   macro avg       0.98      0.98      0.98       540\n",
      "weighted avg       0.98      0.98      0.98       540\n",
      "\n",
      "[[57  0  0  0  2  0  0  0  0  0]\n",
      " [ 0 48  0  0  0  1  0  0  0  0]\n",
      " [ 0  0 49  0  0  0  0  0  0  0]\n",
      " [ 0  0  0 64  0  0  0  0  0  0]\n",
      " [ 0  0  0  0 61  0  0  0  0  0]\n",
      " [ 0  0  0  0  0 45  0  0  0  2]\n",
      " [ 0  0  0  0  0  0 51  0  0  0]\n",
      " [ 0  0  0  0  0  0  0 56  0  1]\n",
      " [ 0  0  0  0  0  0  0  0 45  1]\n",
      " [ 0  0  0  0  0  2  0  0  0 55]]\n"
     ]
    }
   ],
   "source": [
    "pipe=make_pipeline(StandardScaler(),RandomForestClassifier())\n",
    "pipe.fit(X_train,Y_train)\n",
    "yhat_pipe=pipe.predict(x_test)\n",
    "print(metrics.classification_report(y_test,yhat_pipe))\n",
    "print(metrics.confusion_matrix(y_test,yhat_pipe))"
   ]
  },
  {
   "cell_type": "code",
   "execution_count": 26,
   "id": "2cb47abc",
   "metadata": {},
   "outputs": [],
   "source": [
    "param_dist = {\"max_depth\": [3, None],\n",
    "              \"max_features\": np.arange(1, 11),\n",
    "              \"min_samples_split\": np.arange(2, 11),\n",
    "              \"min_samples_leaf\": np.arange(1, 11),\n",
    "              \"bootstrap\": [True, False],\n",
    "              \"criterion\": [\"gini\", \"entropy\"]}"
   ]
  },
  {
   "cell_type": "code",
   "execution_count": 33,
   "id": "ea6c6971",
   "metadata": {},
   "outputs": [],
   "source": [
    "randomrCV=RandomizedSearchCV(rf,param_dist,cv=10)"
   ]
  },
  {
   "cell_type": "code",
   "execution_count": 35,
   "id": "301bcd4e",
   "metadata": {},
   "outputs": [
    {
     "name": "stdout",
     "output_type": "stream",
     "text": [
      "{'min_samples_split': 6, 'min_samples_leaf': 5, 'max_features': 4, 'max_depth': None, 'criterion': 'gini', 'bootstrap': False}\n",
      "0.9681650793650792\n"
     ]
    }
   ],
   "source": [
    "randomrCV.fit(X_train,Y_train)\n",
    "print(randomrCV.best_params_)\n",
    "print(randomrCV.best_score_)"
   ]
  },
  {
   "cell_type": "code",
   "execution_count": 38,
   "id": "af7bd76a",
   "metadata": {},
   "outputs": [
    {
     "name": "stdout",
     "output_type": "stream",
     "text": [
      "              precision    recall  f1-score   support\n",
      "\n",
      "           0       1.00      0.97      0.98        59\n",
      "           1       0.98      0.98      0.98        49\n",
      "           2       1.00      0.98      0.99        49\n",
      "           3       1.00      0.95      0.98        64\n",
      "           4       0.97      0.98      0.98        61\n",
      "           5       0.92      0.98      0.95        47\n",
      "           6       1.00      1.00      1.00        51\n",
      "           7       0.92      0.98      0.95        57\n",
      "           8       0.98      0.96      0.97        46\n",
      "           9       0.95      0.93      0.94        57\n",
      "\n",
      "    accuracy                           0.97       540\n",
      "   macro avg       0.97      0.97      0.97       540\n",
      "weighted avg       0.97      0.97      0.97       540\n",
      "\n",
      "[[57  0  0  0  2  0  0  0  0  0]\n",
      " [ 0 48  0  0  0  1  0  0  0  0]\n",
      " [ 0  0 48  0  0  0  0  1  0  0]\n",
      " [ 0  0  0 61  0  0  0  1  1  1]\n",
      " [ 0  0  0  0 60  0  0  1  0  0]\n",
      " [ 0  0  0  0  0 46  0  0  0  1]\n",
      " [ 0  0  0  0  0  0 51  0  0  0]\n",
      " [ 0  0  0  0  0  0  0 56  0  1]\n",
      " [ 0  1  0  0  0  1  0  0 44  0]\n",
      " [ 0  0  0  0  0  2  0  2  0 53]]\n"
     ]
    }
   ],
   "source": [
    "randomrCV.fit(X_train,Y_train)\n",
    "yhat=randomrCV.predict(x_test)\n",
    "print(metrics.classification_report(y_test,yhat))\n",
    "print(metrics.confusion_matrix(y_test,yhat))"
   ]
  },
  {
   "cell_type": "code",
   "execution_count": null,
   "id": "d463883f",
   "metadata": {},
   "outputs": [],
   "source": []
  }
 ],
 "metadata": {
  "kernelspec": {
   "display_name": "Python 3",
   "language": "python",
   "name": "python3"
  },
  "language_info": {
   "codemirror_mode": {
    "name": "ipython",
    "version": 3
   },
   "file_extension": ".py",
   "mimetype": "text/x-python",
   "name": "python",
   "nbconvert_exporter": "python",
   "pygments_lexer": "ipython3",
   "version": "3.8.8"
  }
 },
 "nbformat": 4,
 "nbformat_minor": 5
}
